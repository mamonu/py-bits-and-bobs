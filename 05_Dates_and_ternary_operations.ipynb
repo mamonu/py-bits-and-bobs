{
 "cells": [
  {
   "cell_type": "markdown",
   "metadata": {},
   "source": [
    "### 05_Dates_and_ternary_operations"
   ]
  },
  {
   "cell_type": "markdown",
   "metadata": {},
   "source": [
    "using `lit`, `to_date`  , `when`, `otherwise`"
   ]
  },
  {
   "cell_type": "code",
   "execution_count": null,
   "metadata": {
    "collapsed": true
   },
   "outputs": [],
   "source": []
  },
  {
   "cell_type": "code",
   "execution_count": 82,
   "metadata": {
    "collapsed": true
   },
   "outputs": [],
   "source": [
    "import pyspark\n",
    "from pyspark.sql import SparkSession\n",
    "from pyspark.sql.functions import *\n",
    "spark = SparkSession.builder.appName('PySparkdatestern').getOrCreate()\n",
    "import pandas as pd\n",
    "sc = SparkSession.sparkContext"
   ]
  },
  {
   "cell_type": "code",
   "execution_count": 83,
   "metadata": {},
   "outputs": [
    {
     "name": "stdout",
     "output_type": "stream",
     "text": [
      "root\n",
      " |-- id: integer (nullable = true)\n",
      " |-- ip_address: string (nullable = true)\n",
      " |-- SPAM: integer (nullable = true)\n",
      " |-- numvar: double (nullable = true)\n",
      "\n"
     ]
    }
   ],
   "source": [
    "spdfA = spark.read.csv('02_MockDataset.csv',inferSchema=True,header=True)\n",
    "spdfA.printSchema()"
   ]
  },
  {
   "cell_type": "markdown",
   "metadata": {},
   "source": [
    "### lit: literal values in a column"
   ]
  },
  {
   "cell_type": "code",
   "execution_count": null,
   "metadata": {
    "collapsed": true
   },
   "outputs": [],
   "source": []
  },
  {
   "cell_type": "markdown",
   "metadata": {},
   "source": [
    "`pyspark.sql.functions.lit(val)`\n",
    "\n",
    "Creates a Column of literal value. \n",
    "\n",
    "Parameters: `val`  : a literal value.\n",
    "\n",
    "Use cases:\n",
    "    \n",
    "When you are trying to compare cols to literal values.\n",
    "When you are trying to assign literal values to columns."
   ]
  },
  {
   "cell_type": "code",
   "execution_count": 84,
   "metadata": {},
   "outputs": [
    {
     "name": "stdout",
     "output_type": "stream",
     "text": [
      "+---+---------------+----+----------+----------+\n",
      "| id|     ip_address|SPAM|    numvar|accessdate|\n",
      "+---+---------------+----+----------+----------+\n",
      "|  1|176.121.226.242|   1|   47.8075| 01/3/2018|\n",
      "|  2| 10.181.138.135|   0| 45.470831| 01/3/2018|\n",
      "|  3|  87.50.171.217|   1|53.5662722| 01/3/2018|\n",
      "+---+---------------+----+----------+----------+\n",
      "only showing top 3 rows\n",
      "\n"
     ]
    }
   ],
   "source": [
    "spdfA=spdfA.withColumn('accessdate',lit(\"01/3/2018\"))\n",
    "spdfA.show(3)"
   ]
  },
  {
   "cell_type": "code",
   "execution_count": null,
   "metadata": {
    "collapsed": true
   },
   "outputs": [],
   "source": []
  },
  {
   "cell_type": "markdown",
   "metadata": {},
   "source": [
    "### Ternary Operators (when & otherwise) in PySpark:"
   ]
  },
  {
   "cell_type": "code",
   "execution_count": null,
   "metadata": {
    "collapsed": true
   },
   "outputs": [],
   "source": []
  },
  {
   "cell_type": "markdown",
   "metadata": {},
   "source": [
    "\n",
    "\n",
    "`pyspark.sql.functions.when(condition, value)`  Evaluates a list of conditions and returns one of multiple possible result expressions. \n",
    "\n",
    "If Column.otherwise() is not invoked, None is returned for unmatched conditions.\n",
    "\n",
    "Parameters: \n",
    "\n",
    "`condition` : a boolean Column expression.\n",
    "    \n",
    "`value` : a literal value, or a Column expression.\n",
    "\n",
    "\n",
    "\n",
    "`pyspark.sql.functions.otherwise(value)` Evaluates a list of conditions and returns one of multiple possible result expressions. \n",
    "\n",
    "\n",
    "\n",
    "If Column.otherwise() is not invoked, None is returned for unmatched conditions."
   ]
  },
  {
   "cell_type": "code",
   "execution_count": null,
   "metadata": {
    "collapsed": true
   },
   "outputs": [],
   "source": []
  },
  {
   "cell_type": "code",
   "execution_count": 85,
   "metadata": {},
   "outputs": [
    {
     "name": "stdout",
     "output_type": "stream",
     "text": [
      "+---+---------------+----+----------+----------+---------+\n",
      "| id|     ip_address|SPAM|    numvar|accessdate|newifdate|\n",
      "+---+---------------+----+----------+----------+---------+\n",
      "|  1|176.121.226.242|   1|   47.8075| 01/3/2018|01/3/2018|\n",
      "|  2| 10.181.138.135|   0| 45.470831| 01/3/2018|05/5/2018|\n",
      "|  3|  87.50.171.217|   1|53.5662722| 01/3/2018|01/3/2018|\n",
      "+---+---------------+----+----------+----------+---------+\n",
      "only showing top 3 rows\n",
      "\n"
     ]
    }
   ],
   "source": [
    "spdfA=spdfA.withColumn('newifdate',when(spdfA.SPAM ==1,\"01/3/2018\").otherwise(\"05/5/2018\"))\n",
    "spdfA.show(3)\n"
   ]
  },
  {
   "cell_type": "code",
   "execution_count": null,
   "metadata": {
    "collapsed": true
   },
   "outputs": [],
   "source": []
  },
  {
   "cell_type": "markdown",
   "metadata": {},
   "source": [
    "### Convert date from String to Date format in Dataframe\n"
   ]
  },
  {
   "cell_type": "code",
   "execution_count": null,
   "metadata": {
    "collapsed": true
   },
   "outputs": [],
   "source": []
  },
  {
   "cell_type": "code",
   "execution_count": 86,
   "metadata": {},
   "outputs": [
    {
     "name": "stdout",
     "output_type": "stream",
     "text": [
      "+---+---------------+----+-----------+--------------+----------+\n",
      "| id|     ip_address|SPAM|     numvar|new_accessdate|new_ifdate|\n",
      "+---+---------------+----+-----------+--------------+----------+\n",
      "|  1|176.121.226.242|   1|    47.8075|    2018-03-01|2018-03-01|\n",
      "|  2| 10.181.138.135|   0|  45.470831|    2018-03-01|2018-05-05|\n",
      "|  3|  87.50.171.217|   1| 53.5662722|    2018-03-01|2018-03-01|\n",
      "|  4|117.104.191.215|   1| -7.3162208|    2018-03-01|2018-03-01|\n",
      "|  5|  48.195.56.188|   0|  36.865827|    2018-03-01|2018-05-05|\n",
      "|  6|234.127.184.207|   0|  57.782249|    2018-03-01|2018-05-05|\n",
      "|  7|   143.8.89.200|   1| -2.4431287|    2018-03-01|2018-03-01|\n",
      "|  8|  96.253.105.66|   1|  40.980653|    2018-03-01|2018-03-01|\n",
      "|  9|207.255.168.139|   1| 49.7030481|    2018-03-01|2018-03-01|\n",
      "| 10| 177.41.205.178|null|       null|    2018-03-01|2018-05-05|\n",
      "| 11| 170.31.179.242|   0| 15.6432256|    2018-03-01|2018-05-05|\n",
      "| 12|   211.97.10.16|   0| 46.2686934|    2018-03-01|2018-05-05|\n",
      "| 13| 108.153.197.45|   0|-29.6880479|    2018-03-01|2018-05-05|\n",
      "| 14| 165.171.16.163|   1|  6.1191928|    2018-03-01|2018-03-01|\n",
      "| 15| 102.223.49.144|   1|  34.620202|    2018-03-01|2018-03-01|\n",
      "| 16|108.181.162.131|   0| 39.7589933|    2018-03-01|2018-05-05|\n",
      "| 17| 122.28.245.126|   0| 44.9564928|    2018-03-01|2018-05-05|\n",
      "| 18| 161.161.247.10|   1|  8.2608053|    2018-03-01|2018-03-01|\n",
      "| 19|   60.38.93.217|   1|  32.047243|    2018-03-01|2018-03-01|\n",
      "| 20|  203.131.45.65|   0| 26.8503552|    2018-03-01|2018-05-05|\n",
      "+---+---------------+----+-----------+--------------+----------+\n",
      "only showing top 20 rows\n",
      "\n"
     ]
    }
   ],
   "source": [
    "spdfA = spdfA.withColumn('new_accessdate', to_date(col('accessdate'),'dd/MM/yyyy').cast(\"date\"))\n",
    "spdfA = spdfA.withColumn('new_ifdate', to_date(col('newifdate'),'dd/MM/yyyy').cast(\"date\"))\n",
    "spdfA = spdfA.drop('newifdate','accessdate')\n",
    "spdfA.show()"
   ]
  },
  {
   "cell_type": "code",
   "execution_count": 87,
   "metadata": {},
   "outputs": [
    {
     "name": "stdout",
     "output_type": "stream",
     "text": [
      "root\n",
      " |-- id: integer (nullable = true)\n",
      " |-- ip_address: string (nullable = true)\n",
      " |-- SPAM: integer (nullable = true)\n",
      " |-- numvar: double (nullable = true)\n",
      " |-- new_accessdate: date (nullable = true)\n",
      " |-- new_ifdate: date (nullable = true)\n",
      "\n",
      "None\n"
     ]
    }
   ],
   "source": [
    "\n",
    "print(spdfA.printSchema())"
   ]
  },
  {
   "cell_type": "code",
   "execution_count": null,
   "metadata": {
    "collapsed": true
   },
   "outputs": [],
   "source": []
  },
  {
   "cell_type": "markdown",
   "metadata": {},
   "source": [
    "### Date difference"
   ]
  },
  {
   "cell_type": "code",
   "execution_count": 90,
   "metadata": {},
   "outputs": [
    {
     "name": "stdout",
     "output_type": "stream",
     "text": [
      "+---+---------------+----+-----------+--------------+----------+--------------+\n",
      "| id|     ip_address|SPAM|     numvar|new_accessdate|new_ifdate|datedifference|\n",
      "+---+---------------+----+-----------+--------------+----------+--------------+\n",
      "|  1|176.121.226.242|   1|    47.8075|    2018-03-01|2018-03-01|             0|\n",
      "|  2| 10.181.138.135|   0|  45.470831|    2018-03-01|2018-05-05|            65|\n",
      "|  3|  87.50.171.217|   1| 53.5662722|    2018-03-01|2018-03-01|             0|\n",
      "|  4|117.104.191.215|   1| -7.3162208|    2018-03-01|2018-03-01|             0|\n",
      "|  5|  48.195.56.188|   0|  36.865827|    2018-03-01|2018-05-05|            65|\n",
      "|  6|234.127.184.207|   0|  57.782249|    2018-03-01|2018-05-05|            65|\n",
      "|  7|   143.8.89.200|   1| -2.4431287|    2018-03-01|2018-03-01|             0|\n",
      "|  8|  96.253.105.66|   1|  40.980653|    2018-03-01|2018-03-01|             0|\n",
      "|  9|207.255.168.139|   1| 49.7030481|    2018-03-01|2018-03-01|             0|\n",
      "| 10| 177.41.205.178|null|       null|    2018-03-01|2018-05-05|            65|\n",
      "| 11| 170.31.179.242|   0| 15.6432256|    2018-03-01|2018-05-05|            65|\n",
      "| 12|   211.97.10.16|   0| 46.2686934|    2018-03-01|2018-05-05|            65|\n",
      "| 13| 108.153.197.45|   0|-29.6880479|    2018-03-01|2018-05-05|            65|\n",
      "| 14| 165.171.16.163|   1|  6.1191928|    2018-03-01|2018-03-01|             0|\n",
      "| 15| 102.223.49.144|   1|  34.620202|    2018-03-01|2018-03-01|             0|\n",
      "| 16|108.181.162.131|   0| 39.7589933|    2018-03-01|2018-05-05|            65|\n",
      "| 17| 122.28.245.126|   0| 44.9564928|    2018-03-01|2018-05-05|            65|\n",
      "| 18| 161.161.247.10|   1|  8.2608053|    2018-03-01|2018-03-01|             0|\n",
      "| 19|   60.38.93.217|   1|  32.047243|    2018-03-01|2018-03-01|             0|\n",
      "| 20|  203.131.45.65|   0| 26.8503552|    2018-03-01|2018-05-05|            65|\n",
      "+---+---------------+----+-----------+--------------+----------+--------------+\n",
      "only showing top 20 rows\n",
      "\n"
     ]
    }
   ],
   "source": [
    "spdfA = spdfA.withColumn(\"datedifference\",datediff(col('new_ifdate'),col('new_accessdate')))\n",
    "spdfA.show()"
   ]
  },
  {
   "cell_type": "code",
   "execution_count": null,
   "metadata": {
    "collapsed": true
   },
   "outputs": [],
   "source": []
  }
 ],
 "metadata": {
  "kernelspec": {
   "display_name": "Python 3",
   "language": "python",
   "name": "python3"
  },
  "language_info": {
   "codemirror_mode": {
    "name": "ipython",
    "version": 3
   },
   "file_extension": ".py",
   "mimetype": "text/x-python",
   "name": "python",
   "nbconvert_exporter": "python",
   "pygments_lexer": "ipython3",
   "version": "3.6.1"
  }
 },
 "nbformat": 4,
 "nbformat_minor": 2
}
