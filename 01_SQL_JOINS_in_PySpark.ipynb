{
 "cells": [
  {
   "cell_type": "code",
   "execution_count": 1,
   "metadata": {
    "collapsed": true
   },
   "outputs": [],
   "source": [
    "import pyspark\n",
    "from pyspark.sql import SparkSession\n",
    "from pyspark.sql.functions import col\n",
    "spark = SparkSession.builder.appName('PySparkSQLJOINS').getOrCreate()\n",
    "import pandas as pd"
   ]
  },
  {
   "cell_type": "code",
   "execution_count": 2,
   "metadata": {
    "collapsed": true
   },
   "outputs": [],
   "source": [
    "from pyspark.sql.functions import col,max,lit,count"
   ]
  },
  {
   "cell_type": "code",
   "execution_count": 3,
   "metadata": {
    "collapsed": true
   },
   "outputs": [],
   "source": [
    "### jOINS examples"
   ]
  },
  {
   "cell_type": "code",
   "execution_count": 4,
   "metadata": {},
   "outputs": [
    {
     "name": "stdout",
     "output_type": "stream",
     "text": [
      "+-----------+---+\n",
      "|       name| id|\n",
      "+-----------+---+\n",
      "|       Luke|  1|\n",
      "|        Han|  2|\n",
      "|       Leia|  3|\n",
      "|Darth Vader|  4|\n",
      "+-----------+---+\n",
      "\n",
      "+-----------+---+\n",
      "|       name| id|\n",
      "+-----------+---+\n",
      "|       Yoda|  1|\n",
      "|      Lando|  2|\n",
      "|       Luke|  3|\n",
      "|Darth Vader|  4|\n",
      "+-----------+---+\n",
      "\n"
     ]
    }
   ],
   "source": [
    "valuesA = [('Luke',1),('Han',2),('Leia',3),('Darth Vader',4)]\n",
    "TableA = spark.createDataFrame(valuesA,['name','id'])\n",
    " \n",
    "valuesB = [('Yoda',1),('Lando',2),('Luke',3),('Darth Vader',4)]\n",
    "TableB = spark.createDataFrame(valuesB,['name','id'])\n",
    " \n",
    "TableA.show()\n",
    "TableB.show()"
   ]
  },
  {
   "cell_type": "code",
   "execution_count": 6,
   "metadata": {
    "collapsed": true
   },
   "outputs": [],
   "source": [
    "ta = TableA.alias('ta')\n",
    "tb = TableB.alias('tb')"
   ]
  },
  {
   "cell_type": "code",
   "execution_count": 7,
   "metadata": {},
   "outputs": [
    {
     "name": "stdout",
     "output_type": "stream",
     "text": [
      "+-----------+---+-----------+---+\n",
      "|       name| id|       name| id|\n",
      "+-----------+---+-----------+---+\n",
      "|       Luke|  1|       Luke|  3|\n",
      "|Darth Vader|  4|Darth Vader|  4|\n",
      "+-----------+---+-----------+---+\n",
      "\n"
     ]
    }
   ],
   "source": [
    "inner_join = ta.join(tb, ta.name == tb.name)\n",
    "inner_join.show()"
   ]
  },
  {
   "cell_type": "code",
   "execution_count": 8,
   "metadata": {},
   "outputs": [
    {
     "name": "stdout",
     "output_type": "stream",
     "text": [
      "+-----------+---+-----------+----+\n",
      "|       name| id|       name|  id|\n",
      "+-----------+---+-----------+----+\n",
      "|       Leia|  3|       null|null|\n",
      "|       Luke|  1|       Luke|   3|\n",
      "|        Han|  2|       null|null|\n",
      "|Darth Vader|  4|Darth Vader|   4|\n",
      "+-----------+---+-----------+----+\n",
      "\n"
     ]
    }
   ],
   "source": [
    "left_join = ta.join(tb, ta.name == tb.name,how='left') # Could also use 'left_outer'\n",
    "left_join.show()"
   ]
  },
  {
   "cell_type": "code",
   "execution_count": 9,
   "metadata": {},
   "outputs": [
    {
     "name": "stdout",
     "output_type": "stream",
     "text": [
      "+-----------+----+-----------+---+\n",
      "|       name|  id|       name| id|\n",
      "+-----------+----+-----------+---+\n",
      "|       Luke|   1|       Luke|  3|\n",
      "|       null|null|      Lando|  2|\n",
      "|       null|null|       Yoda|  1|\n",
      "|Darth Vader|   4|Darth Vader|  4|\n",
      "+-----------+----+-----------+---+\n",
      "\n"
     ]
    }
   ],
   "source": [
    "right_join = ta.join(tb, ta.name == tb.name,how='right') # Could also use 'right_outer'\n",
    "right_join.show()"
   ]
  },
  {
   "cell_type": "code",
   "execution_count": 10,
   "metadata": {},
   "outputs": [
    {
     "name": "stdout",
     "output_type": "stream",
     "text": [
      "+-----------+----+-----------+----+\n",
      "|       name|  id|       name|  id|\n",
      "+-----------+----+-----------+----+\n",
      "|       Leia|   3|       null|null|\n",
      "|       Luke|   1|       Luke|   3|\n",
      "|       null|null|      Lando|   2|\n",
      "|       null|null|       Yoda|   1|\n",
      "|        Han|   2|       null|null|\n",
      "|Darth Vader|   4|Darth Vader|   4|\n",
      "+-----------+----+-----------+----+\n",
      "\n"
     ]
    }
   ],
   "source": [
    "full_outer_join = ta.join(tb, ta.name == tb.name,how='full') # Could also use 'full_outer'\n",
    "full_outer_join.show()"
   ]
  },
  {
   "cell_type": "code",
   "execution_count": 11,
   "metadata": {},
   "outputs": [
    {
     "name": "stdout",
     "output_type": "stream",
     "text": [
      "+-----------+---+\n",
      "|       name| id|\n",
      "+-----------+---+\n",
      "|       Luke|  1|\n",
      "|Darth Vader|  4|\n",
      "+-----------+---+\n",
      "\n"
     ]
    }
   ],
   "source": [
    "left_semi_join = ta.join(tb, ta.name == tb.name,how='leftsemi') \n",
    "left_semi_join.show()"
   ]
  },
  {
   "cell_type": "code",
   "execution_count": null,
   "metadata": {
    "collapsed": true
   },
   "outputs": [],
   "source": []
  },
  {
   "cell_type": "code",
   "execution_count": null,
   "metadata": {
    "collapsed": true
   },
   "outputs": [],
   "source": []
  },
  {
   "cell_type": "code",
   "execution_count": 12,
   "metadata": {},
   "outputs": [
    {
     "name": "stdout",
     "output_type": "stream",
     "text": [
      "+-----------+---+---------+\n",
      "|       name| id|leavedate|\n",
      "+-----------+---+---------+\n",
      "|       R2D2|  4|       18|\n",
      "|    Obi Wan|  4|       17|\n",
      "|Darth Vader|  4|       15|\n",
      "|Darth Vader|  4|       12|\n",
      "|       C3PO|  4|       11|\n",
      "+-----------+---+---------+\n",
      "\n",
      "+-------------+---+----------+\n",
      "|        nameB|idB|leavedateB|\n",
      "+-------------+---+----------+\n",
      "|  Darth Vader|  4|        11|\n",
      "|   Darth Maul|  4|        10|\n",
      "|Darth Sidious|  4|        25|\n",
      "|  Darth Vader|  4|        22|\n",
      "|  Darth Vader|  4|        21|\n",
      "+-------------+---+----------+\n",
      "\n"
     ]
    }
   ],
   "source": [
    "valuesC = [('R2D2',4,18),('Obi Wan',4,17),('Darth Vader',4,15),('Darth Vader',4,12),('C3PO',4,11)]\n",
    "TableC = spark.createDataFrame(valuesC,['name','id','leavedate'])\n",
    " \n",
    "valuesD = [('Darth Vader',4,11),('Darth Maul',4,10),('Darth Sidious',4,25),('Darth Vader',4,22),('Darth Vader',4,21)]\n",
    "TableD = spark.createDataFrame(valuesD,['name','id','leavedate'])\n",
    " \n",
    "TableC.show()\n",
    "TableD  = TableD.selectExpr(\"name as nameB\", \"id as idB\",\"leavedate as leavedateB\")\n",
    "TableD.show()"
   ]
  },
  {
   "cell_type": "code",
   "execution_count": 13,
   "metadata": {},
   "outputs": [
    {
     "name": "stdout",
     "output_type": "stream",
     "text": [
      "== Physical Plan ==\n",
      "SortMergeJoin [name#146], [nameB#169], LeftSemi\n",
      ":- *(2) Sort [name#146 ASC NULLS FIRST], false, 0\n",
      ":  +- Exchange hashpartitioning(name#146, 200)\n",
      ":     +- *(1) Filter isnotnull(name#146)\n",
      ":        +- Scan ExistingRDD[name#146,id#147L,leavedate#148L]\n",
      "+- *(4) Sort [nameB#169 ASC NULLS FIRST], false, 0\n",
      "   +- Exchange hashpartitioning(nameB#169, 200)\n",
      "      +- *(3) Project [name#152 AS nameB#169]\n",
      "         +- Scan ExistingRDD[name#152,id#153L,leavedate#154L]\n",
      "+-----------+---+---------+\n",
      "|       name| id|leavedate|\n",
      "+-----------+---+---------+\n",
      "|Darth Vader|  4|       15|\n",
      "|Darth Vader|  4|       12|\n",
      "+-----------+---+---------+\n",
      "\n"
     ]
    }
   ],
   "source": [
    "TableC.join(TableD, TableC.name == TableD.nameB,how='leftsemi').explain()   #### show SQL Action plan \n",
    "joinedl = TableC.join(TableD, TableC.name == TableD.nameB,how='leftsemi')\n",
    "joinedl.show()"
   ]
  },
  {
   "cell_type": "code",
   "execution_count": null,
   "metadata": {
    "collapsed": true
   },
   "outputs": [],
   "source": []
  }
 ],
 "metadata": {
  "kernelspec": {
   "display_name": "Python 3",
   "language": "python",
   "name": "python3"
  },
  "language_info": {
   "codemirror_mode": {
    "name": "ipython",
    "version": 3
   },
   "file_extension": ".py",
   "mimetype": "text/x-python",
   "name": "python",
   "nbconvert_exporter": "python",
   "pygments_lexer": "ipython3",
   "version": "3.6.1"
  }
 },
 "nbformat": 4,
 "nbformat_minor": 2
}
