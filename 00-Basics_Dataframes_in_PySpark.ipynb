{
 "cells": [
  {
   "cell_type": "code",
   "execution_count": null,
   "metadata": {
    "collapsed": true
   },
   "outputs": [],
   "source": []
  },
  {
   "cell_type": "code",
   "execution_count": null,
   "metadata": {
    "collapsed": true
   },
   "outputs": [],
   "source": []
  },
  {
   "cell_type": "code",
   "execution_count": 1,
   "metadata": {
    "collapsed": true
   },
   "outputs": [],
   "source": [
    "import pyspark"
   ]
  },
  {
   "cell_type": "code",
   "execution_count": 2,
   "metadata": {
    "collapsed": true
   },
   "outputs": [],
   "source": [
    "# SparkSession manages the connection to the SparkCluster\n",
    "from pyspark.sql import SparkSession\n",
    "\n",
    "# Config for large Spark Executors (high RAM and multiple cores)\n",
    "# with room for significant Python processing taking place on the worker nodes\n",
    "spark = SparkSession.builder.appName('Hello_Spark').getOrCreate()"
   ]
  },
  {
   "cell_type": "code",
   "execution_count": 3,
   "metadata": {},
   "outputs": [
    {
     "data": {
      "text/plain": [
       "[('spark.driver.host', 'ONS21891.Ons.Statistics.gov.uk'),\n",
       " ('spark.app.name', 'Hello_Spark'),\n",
       " ('spark.rdd.compress', 'True'),\n",
       " ('spark.serializer.objectStreamReset', '100'),\n",
       " ('spark.master', 'local[*]'),\n",
       " ('spark.app.id', 'local-1525267439591'),\n",
       " ('spark.executor.id', 'driver'),\n",
       " ('spark.submit.deployMode', 'client'),\n",
       " ('spark.ui.showConsoleProgress', 'true'),\n",
       " ('spark.driver.port', '53276')]"
      ]
     },
     "execution_count": 3,
     "metadata": {},
     "output_type": "execute_result"
    }
   ],
   "source": [
    "spark.sparkContext.getConf().getAll()"
   ]
  },
  {
   "cell_type": "code",
   "execution_count": null,
   "metadata": {
    "collapsed": true
   },
   "outputs": [],
   "source": []
  },
  {
   "cell_type": "markdown",
   "metadata": {},
   "source": [
    "### LOAD 3 files.   SSN as common primary key "
   ]
  },
  {
   "cell_type": "code",
   "execution_count": 4,
   "metadata": {
    "collapsed": true
   },
   "outputs": [],
   "source": [
    "csvfile = spark.read.csv(\"MOCK_DATASET1.csv\", header=True, inferSchema=True)"
   ]
  },
  {
   "cell_type": "code",
   "execution_count": 5,
   "metadata": {},
   "outputs": [
    {
     "name": "stdout",
     "output_type": "stream",
     "text": [
      "root\n",
      " |-- id: integer (nullable = true)\n",
      " |-- first_name: string (nullable = true)\n",
      " |-- last_name: string (nullable = true)\n",
      " |-- job: string (nullable = true)\n",
      " |-- gender: string (nullable = true)\n",
      " |-- SSN: string (nullable = true)\n",
      "\n"
     ]
    }
   ],
   "source": [
    "csvfile.printSchema()"
   ]
  },
  {
   "cell_type": "code",
   "execution_count": 7,
   "metadata": {},
   "outputs": [
    {
     "data": {
      "text/plain": [
       "1000"
      ]
     },
     "execution_count": 7,
     "metadata": {},
     "output_type": "execute_result"
    }
   ],
   "source": [
    "csvfile.count()"
   ]
  },
  {
   "cell_type": "code",
   "execution_count": null,
   "metadata": {
    "collapsed": true
   },
   "outputs": [],
   "source": []
  },
  {
   "cell_type": "code",
   "execution_count": null,
   "metadata": {
    "collapsed": true
   },
   "outputs": [],
   "source": []
  },
  {
   "cell_type": "code",
   "execution_count": 8,
   "metadata": {
    "collapsed": true
   },
   "outputs": [],
   "source": [
    "csvfile2 = spark.read.csv(\"MOCK_DATASET2.csv\", header=True, inferSchema=True)"
   ]
  },
  {
   "cell_type": "code",
   "execution_count": 9,
   "metadata": {},
   "outputs": [
    {
     "name": "stdout",
     "output_type": "stream",
     "text": [
      "root\n",
      " |-- id: integer (nullable = true)\n",
      " |-- SSN: string (nullable = true)\n",
      " |-- Country: string (nullable = true)\n",
      " |-- carmake: string (nullable = true)\n",
      " |-- job: string (nullable = true)\n",
      "\n"
     ]
    }
   ],
   "source": [
    "csvfile2.printSchema()"
   ]
  },
  {
   "cell_type": "code",
   "execution_count": 10,
   "metadata": {
    "collapsed": true
   },
   "outputs": [],
   "source": [
    "csvfile3 = spark.read.csv(\"MOCK_DATASET3.csv\", header=True, inferSchema=True)"
   ]
  },
  {
   "cell_type": "code",
   "execution_count": 11,
   "metadata": {},
   "outputs": [
    {
     "name": "stdout",
     "output_type": "stream",
     "text": [
      "root\n",
      " |-- id: integer (nullable = true)\n",
      " |-- SSN: string (nullable = true)\n",
      " |-- NHS_NUMBER: long (nullable = true)\n",
      " |-- SEQ: string (nullable = true)\n",
      " |-- OUT_DATE: string (nullable = true)\n",
      " |-- IN_DATE: string (nullable = true)\n",
      " |-- ICD9: string (nullable = true)\n",
      "\n"
     ]
    }
   ],
   "source": [
    "csvfile3.printSchema()"
   ]
  },
  {
   "cell_type": "code",
   "execution_count": 12,
   "metadata": {},
   "outputs": [
    {
     "name": "stdout",
     "output_type": "stream",
     "text": [
      "+--------------------+------+-----------+\n",
      "|                 job|gender|        SSN|\n",
      "+--------------------+------+-----------+\n",
      "| Clinical Specialist|Female|562-53-8334|\n",
      "|Analog Circuit De...|  Male|499-57-3069|\n",
      "| Structural Engineer|  Male|350-12-2717|\n",
      "|Research Assistan...|  Male|366-38-4163|\n",
      "|    Internal Auditor|  Male|566-55-1510|\n",
      "+--------------------+------+-----------+\n",
      "only showing top 5 rows\n",
      "\n"
     ]
    }
   ],
   "source": [
    "csvfile=csvfile.drop('id')\n",
    "csvfile.sample(fraction=0.1, withReplacement=False).\\\n",
    "select('job','gender','SSN').show(5)"
   ]
  },
  {
   "cell_type": "code",
   "execution_count": 13,
   "metadata": {},
   "outputs": [
    {
     "name": "stdout",
     "output_type": "stream",
     "text": [
      "+-----------+-------+-------+\n",
      "|        SSN|Country|carmake|\n",
      "+-----------+-------+-------+\n",
      "|350-12-2717|  China|   Ford|\n",
      "|762-90-2894| Russia|Pontiac|\n",
      "|566-55-1510|Nigeria| Toyota|\n",
      "|407-75-9320|  China|    GMC|\n",
      "|778-86-2365| Poland|   Audi|\n",
      "+-----------+-------+-------+\n",
      "only showing top 5 rows\n",
      "\n"
     ]
    }
   ],
   "source": [
    "csvfile2=csvfile2.drop('id','job')\n",
    "csvfile2.sample(fraction=0.1, withReplacement=False).show(5)"
   ]
  },
  {
   "cell_type": "code",
   "execution_count": 14,
   "metadata": {},
   "outputs": [
    {
     "name": "stdout",
     "output_type": "stream",
     "text": [
      "+-----------+----------+---+----------+----------+--------------------+\n",
      "|        SSN|NHS_NUMBER|SEQ|  OUT_DATE|   IN_DATE|                ICD9|\n",
      "+-----------+----------+---+----------+----------+--------------------+\n",
      "|557-75-7804|7790824767|FSB|11/08/2017|28/06/2015| Fx radius head-open|\n",
      "|570-92-9695|7450273527|FNA|16/08/2017|10/07/2016|Sprain supraspinatus|\n",
      "|547-42-3591|9982383124|ZTO|21/02/2018|14/09/2015|Mv-train coll-pedest|\n",
      "|885-35-5120|7276846903|FBC|23/06/2017|17/07/2016|Fem pelvic perito...|\n",
      "|756-97-6955|7765617338|WOC|05/07/2017|14/04/2016|Second malig neo ...|\n",
      "+-----------+----------+---+----------+----------+--------------------+\n",
      "only showing top 5 rows\n",
      "\n"
     ]
    }
   ],
   "source": [
    "csvfile3=csvfile3.drop('id')\n",
    "csvfile3.sample(fraction=0.1, withReplacement=False).show(5)"
   ]
  },
  {
   "cell_type": "code",
   "execution_count": 15,
   "metadata": {},
   "outputs": [
    {
     "name": "stdout",
     "output_type": "stream",
     "text": [
      "+-----------+-----+\n",
      "|    Country|count|\n",
      "+-----------+-----+\n",
      "|       Chad|    1|\n",
      "|     Russia|   55|\n",
      "|      Yemen|    3|\n",
      "|    Senegal|    2|\n",
      "|     Sweden|   30|\n",
      "|Philippines|   67|\n",
      "|    Eritrea|    1|\n",
      "|   Djibouti|    1|\n",
      "|   Malaysia|    5|\n",
      "|     Turkey|    1|\n",
      "|     Malawi|    3|\n",
      "|       Iraq|    1|\n",
      "|    Germany|    2|\n",
      "|Afghanistan|    1|\n",
      "|Ivory Coast|    2|\n",
      "|   Maldives|    1|\n",
      "|     France|   29|\n",
      "|     Greece|   14|\n",
      "|  Sri Lanka|    1|\n",
      "|       Togo|    2|\n",
      "+-----------+-----+\n",
      "only showing top 20 rows\n",
      "\n"
     ]
    }
   ],
   "source": [
    "nation_counts = csvfile2.groupBy('Country').count().show()\n"
   ]
  },
  {
   "cell_type": "code",
   "execution_count": null,
   "metadata": {
    "collapsed": true
   },
   "outputs": [],
   "source": []
  },
  {
   "cell_type": "code",
   "execution_count": null,
   "metadata": {
    "collapsed": true
   },
   "outputs": [],
   "source": []
  },
  {
   "cell_type": "markdown",
   "metadata": {},
   "source": [
    "its time to join these 3 dataframes using SSN as the common key\n",
    "\n",
    "### Kinds of JOINS \n",
    "![title](joins.jpg)"
   ]
  },
  {
   "cell_type": "code",
   "execution_count": 16,
   "metadata": {
    "collapsed": true
   },
   "outputs": [],
   "source": [
    "joined= csvfile.join(csvfile2, \"SSN\", how = \"inner\")"
   ]
  },
  {
   "cell_type": "code",
   "execution_count": 17,
   "metadata": {},
   "outputs": [
    {
     "name": "stdout",
     "output_type": "stream",
     "text": [
      "+-----------+----------+---------+--------------------+------+-----------+----------+\n",
      "|        SSN|first_name|last_name|                 job|gender|    Country|   carmake|\n",
      "+-----------+----------+---------+--------------------+------+-----------+----------+\n",
      "|661-98-8505|Ermengarde|  Muneely| Associate Professor|Female|      China|Mitsubishi|\n",
      "|576-77-4107|    Tammie|   Clemow|  Analyst Programmer|  Male|       Togo|  Chrysler|\n",
      "|194-33-0004|      Yvor| Ilyinykh|     Design Engineer|  Male|  Indonesia|   Pontiac|\n",
      "|125-85-9610|     Allin|  Tomsett|Sales Representative|  Male|Philippines|       GMC|\n",
      "|880-05-2062|    Dillon|  Middiff|       VP Accounting|  Male|   Thailand|Volkswagen|\n",
      "|586-02-1203|      Troy|   Genney|     Sales Associate|  Male|      Yemen|   Mercury|\n",
      "|328-44-4724|   Marlene|     Musk|     Staff Scientist|Female|   Tanzania|   Pontiac|\n",
      "|562-53-8334|   Yalonda| Craister| Clinical Specialist|Female|  Indonesia|  Cadillac|\n",
      "|499-57-3069|     Hewie|  Mammatt|Analog Circuit De...|  Male|   Colombia|     Dodge|\n",
      "|350-12-2717|    Tulley|  Chaytor| Structural Engineer|  Male|      China|      Ford|\n",
      "+-----------+----------+---------+--------------------+------+-----------+----------+\n",
      "only showing top 10 rows\n",
      "\n"
     ]
    }
   ],
   "source": [
    "joined.show(10)"
   ]
  },
  {
   "cell_type": "code",
   "execution_count": 18,
   "metadata": {
    "collapsed": true
   },
   "outputs": [],
   "source": [
    "finaljoined=joined.join(csvfile3, \"SSN\", how = \"inner\")"
   ]
  },
  {
   "cell_type": "code",
   "execution_count": 19,
   "metadata": {},
   "outputs": [
    {
     "data": {
      "text/plain": [
       "['SSN',\n",
       " 'first_name',\n",
       " 'last_name',\n",
       " 'job',\n",
       " 'gender',\n",
       " 'Country',\n",
       " 'carmake',\n",
       " 'NHS_NUMBER',\n",
       " 'SEQ',\n",
       " 'OUT_DATE',\n",
       " 'IN_DATE',\n",
       " 'ICD9']"
      ]
     },
     "execution_count": 19,
     "metadata": {},
     "output_type": "execute_result"
    }
   ],
   "source": [
    "finaljoined.columns"
   ]
  },
  {
   "cell_type": "code",
   "execution_count": 20,
   "metadata": {},
   "outputs": [
    {
     "data": {
      "text/plain": [
       "DataFrame[summary: string, SSN: string, first_name: string, last_name: string, job: string, gender: string, Country: string, carmake: string, NHS_NUMBER: string, SEQ: string, OUT_DATE: string, IN_DATE: string, ICD9: string]"
      ]
     },
     "execution_count": 20,
     "metadata": {},
     "output_type": "execute_result"
    }
   ],
   "source": [
    "finaljoined.describe()"
   ]
  },
  {
   "cell_type": "code",
   "execution_count": 21,
   "metadata": {},
   "outputs": [
    {
     "name": "stdout",
     "output_type": "stream",
     "text": [
      "+-----------+----------+---------+------+-----------+----------+---+----------+----------+\n",
      "|        SSN|first_name|last_name|gender|    Country|NHS_NUMBER|SEQ|  OUT_DATE|   IN_DATE|\n",
      "+-----------+----------+---------+------+-----------+----------+---+----------+----------+\n",
      "|661-98-8505|Ermengarde|  Muneely|Female|      China|2161139193|ZLR|18/06/2017|03/03/2016|\n",
      "|576-77-4107|    Tammie|   Clemow|  Male|       Togo|6281115422|KEC|17/03/2017|25/06/2016|\n",
      "|194-33-0004|      Yvor| Ilyinykh|  Male|  Indonesia| 383193184|RLF|29/06/2017|23/11/2015|\n",
      "|125-85-9610|     Allin|  Tomsett|  Male|Philippines|3532442140|GEA|07/12/2018|16/10/2015|\n",
      "|880-05-2062|    Dillon|  Middiff|  Male|   Thailand| 842221204|BWM|12/02/2017|16/01/2016|\n",
      "|586-02-1203|      Troy|   Genney|  Male|      Yemen|9495731291|UFK|24/03/2017|11/02/2015|\n",
      "|328-44-4724|   Marlene|     Musk|Female|   Tanzania|4557036961|DQK|02/05/2017|25/09/2016|\n",
      "|562-53-8334|   Yalonda| Craister|Female|  Indonesia| 392632683|CRO|13/08/2017|21/05/2016|\n",
      "|499-57-3069|     Hewie|  Mammatt|  Male|   Colombia|6574054974|SQY|23/02/2018|03/12/2015|\n",
      "|350-12-2717|    Tulley|  Chaytor|  Male|      China|8116323385|GZK|21/09/2017|21/12/2016|\n",
      "+-----------+----------+---------+------+-----------+----------+---+----------+----------+\n",
      "only showing top 10 rows\n",
      "\n"
     ]
    }
   ],
   "source": [
    "finaljoined=finaljoined.drop('job','carmake','ICD9')\n",
    "finaljoined.show(10)"
   ]
  },
  {
   "cell_type": "code",
   "execution_count": 28,
   "metadata": {
    "collapsed": true
   },
   "outputs": [],
   "source": [
    "from pyspark.sql.functions import levenshtein,datediff,regexp_replace,date_format"
   ]
  },
  {
   "cell_type": "code",
   "execution_count": 29,
   "metadata": {},
   "outputs": [
    {
     "name": "stdout",
     "output_type": "stream",
     "text": [
      "+-----------+----------+--------------+------+---------+----------+---+----------+----------+\n",
      "|        SSN|first_name|     last_name|gender|  Country|NHS_NUMBER|SEQ|  OUT_DATE|   IN_DATE|\n",
      "+-----------+----------+--------------+------+---------+----------+---+----------+----------+\n",
      "|156-73-4507|    Hakeem|       Coronas|  Male|Indonesia| 971184089|AVD|11/07/2018|26/05/2016|\n",
      "|744-09-2748| Archibald|De la Perrelle|  Male| Mongolia|2899736272|VBI|14/03/2018|01/12/2016|\n",
      "|547-88-4595|      Kati|        Caunce|Female|  Bolivia| 407364048|KWK|24/07/2017|17/03/2015|\n",
      "|671-13-2456|    Mollie|       Cleland|Female| Tanzania|4550866209|YFW|18/12/2018|30/01/2016|\n",
      "|749-03-7928|    Sammie|       Bunnell|  Male|   Russia|1145740634|PKL|15/10/2017|16/05/2016|\n",
      "|444-94-9646|    Nichol|       Carillo|Female|Indonesia|6751698364|YXF|11/09/2018|18/08/2015|\n",
      "|813-10-3202|    Hersch|      Foxcroft|  Male| Colombia|6521005383|QYY|17/06/2018|02/07/2015|\n",
      "|652-95-1276|  Starlene|        Surmon|Female|Indonesia| 789022370|WGW|13/09/2018|30/10/2015|\n",
      "|888-20-4015|  Lauraine|      Mellings|Female|  Tunisia|8012661705|TBE|23/12/2017|27/03/2016|\n",
      "|137-73-6496|   Wendall|       Fellnee|  Male|  Nigeria|6994902005|HAV|01/06/2017|07/10/2015|\n",
      "|221-51-6985|    Elwira|    Shackelton|Female|Indonesia|1278057609|IDF|21/02/2017|27/10/2015|\n",
      "|268-95-0735|     Staci|         Girth|Female|Indonesia|1714712354|NRB|27/02/2018|31/08/2015|\n",
      "|223-75-4540|     Kelly|      Ramsdale|  Male| Colombia|4505846415|NES|22/04/2018|04/02/2016|\n",
      "|426-78-5929|   Sonnnie|       Lossman|Female|  Albania|9999429963|OBL|30/03/2018|27/04/2015|\n",
      "|685-94-8001|   Terrill|       Gambell|  Male|   Russia|6327806082|QKP|04/05/2018|24/06/2015|\n",
      "|798-64-0647|  Scarlett|        Savine|Female|   Russia| 291510035|TDU|07/05/2017|06/11/2015|\n",
      "|469-71-4789|    Marcie|        Aronin|Female| Colombia|4281645187|IWC|27/07/2017|13/04/2016|\n",
      "|430-50-8135|   Lorelle|       Buttrey|Female| Malaysia|2571639935|WKY|17/03/2017|30/06/2016|\n",
      "|656-88-5730|     Mavra|        Digges|Female|Indonesia|2960988930|BAF|24/03/2018|17/06/2016|\n",
      "|652-70-9990|      Esta|         Bovis|Female|Indonesia|6671283664|BXX|05/12/2017|10/02/2016|\n",
      "+-----------+----------+--------------+------+---------+----------+---+----------+----------+\n",
      "only showing top 20 rows\n",
      "\n"
     ]
    }
   ],
   "source": [
    "finaljoined.filter(finaljoined.Country.rlike('ia$')).show()"
   ]
  },
  {
   "cell_type": "code",
   "execution_count": 30,
   "metadata": {},
   "outputs": [
    {
     "name": "stdout",
     "output_type": "stream",
     "text": [
      "+-----------+----------+---------+------+-------------+----------+---+----------+----------+------------+\n",
      "|        SSN|first_name|last_name|gender|      Country|NHS_NUMBER|SEQ|  OUT_DATE|   IN_DATE|NHS_REDACTED|\n",
      "+-----------+----------+---------+------+-------------+----------+---+----------+----------+------------+\n",
      "|661-98-8505|Ermengarde|  Muneely|Female|        China|2161139193|ZLR|18/06/2017|03/03/2016|  ----------|\n",
      "|576-77-4107|    Tammie|   Clemow|  Male|         Togo|6281115422|KEC|17/03/2017|25/06/2016|  ----------|\n",
      "|194-33-0004|      Yvor| Ilyinykh|  Male|    Indonesia| 383193184|RLF|29/06/2017|23/11/2015|   ---------|\n",
      "|125-85-9610|     Allin|  Tomsett|  Male|  Philippines|3532442140|GEA|07/12/2018|16/10/2015|  ----------|\n",
      "|880-05-2062|    Dillon|  Middiff|  Male|     Thailand| 842221204|BWM|12/02/2017|16/01/2016|   ---------|\n",
      "|586-02-1203|      Troy|   Genney|  Male|        Yemen|9495731291|UFK|24/03/2017|11/02/2015|  ----------|\n",
      "|328-44-4724|   Marlene|     Musk|Female|     Tanzania|4557036961|DQK|02/05/2017|25/09/2016|  ----------|\n",
      "|562-53-8334|   Yalonda| Craister|Female|    Indonesia| 392632683|CRO|13/08/2017|21/05/2016|   ---------|\n",
      "|499-57-3069|     Hewie|  Mammatt|  Male|     Colombia|6574054974|SQY|23/02/2018|03/12/2015|  ----------|\n",
      "|350-12-2717|    Tulley|  Chaytor|  Male|        China|8116323385|GZK|21/09/2017|21/12/2016|  ----------|\n",
      "|628-23-6037|  Bellanca|  Walthew|Female|        China| 347316093|MSQ|14/02/2017|15/01/2015|   ---------|\n",
      "|557-75-7804|     Kayle|Roderighi|Female|      Belarus|7790824767|FSB|11/08/2017|28/06/2015|  ----------|\n",
      "|366-38-4163| Aleksandr|  Drezzer|  Male|    Lithuania|5598485567|EFM|23/09/2017|24/10/2016|  ----------|\n",
      "|762-90-2894|    Hughie|McWhirter|  Male|       Russia|7964298046|ERM|02/03/2017|24/01/2016|  ----------|\n",
      "|386-02-1594|     Gladi|  Roggero|Female|       Russia|1139964496|HFG|15/10/2018|27/07/2016|  ----------|\n",
      "|570-92-9695|     Ringo|    Sirey|  Male|    Indonesia|7450273527|FNA|16/08/2017|10/07/2016|  ----------|\n",
      "|566-55-1510|     Alvie|   McDade|  Male|      Nigeria|8704478215|RJG|13/04/2017|26/10/2016|  ----------|\n",
      "|305-39-8231|     Ginni| Pietzker|Female|    Indonesia|4695747189|XNK|21/06/2018|01/11/2016|  ----------|\n",
      "|407-75-9320|  Lowrance|   Marien|  Male|        China|6487684767|MOM|04/09/2017|24/05/2015|  ----------|\n",
      "|648-56-0519|       Loy| Barthrup|  Male|United States| 228981441|LPJ|19/02/2018|24/09/2016|   ---------|\n",
      "+-----------+----------+---------+------+-------------+----------+---+----------+----------+------------+\n",
      "only showing top 20 rows\n",
      "\n"
     ]
    }
   ],
   "source": [
    "finaljoined.withColumn('NHS_REDACTED', regexp_replace('NHS_NUMBER', '(\\d)', '-')).show()"
   ]
  },
  {
   "cell_type": "code",
   "execution_count": 31,
   "metadata": {},
   "outputs": [
    {
     "name": "stdout",
     "output_type": "stream",
     "text": [
      "+-----------+----------+---------+------+-------------+----------+---+----------+----------+----------+----------+\n",
      "|        SSN|first_name|last_name|gender|      Country|NHS_NUMBER|SEQ|  OUT_DATE|   IN_DATE|  OUT-DATE|   IN-DATE|\n",
      "+-----------+----------+---------+------+-------------+----------+---+----------+----------+----------+----------+\n",
      "|661-98-8505|Ermengarde|  Muneely|Female|        China|2161139193|ZLR|18/06/2017|03/03/2016|18-06-2017|03-03-2016|\n",
      "|576-77-4107|    Tammie|   Clemow|  Male|         Togo|6281115422|KEC|17/03/2017|25/06/2016|17-03-2017|25-06-2016|\n",
      "|194-33-0004|      Yvor| Ilyinykh|  Male|    Indonesia| 383193184|RLF|29/06/2017|23/11/2015|29-06-2017|23-11-2015|\n",
      "|125-85-9610|     Allin|  Tomsett|  Male|  Philippines|3532442140|GEA|07/12/2018|16/10/2015|07-12-2018|16-10-2015|\n",
      "|880-05-2062|    Dillon|  Middiff|  Male|     Thailand| 842221204|BWM|12/02/2017|16/01/2016|12-02-2017|16-01-2016|\n",
      "|586-02-1203|      Troy|   Genney|  Male|        Yemen|9495731291|UFK|24/03/2017|11/02/2015|24-03-2017|11-02-2015|\n",
      "|328-44-4724|   Marlene|     Musk|Female|     Tanzania|4557036961|DQK|02/05/2017|25/09/2016|02-05-2017|25-09-2016|\n",
      "|562-53-8334|   Yalonda| Craister|Female|    Indonesia| 392632683|CRO|13/08/2017|21/05/2016|13-08-2017|21-05-2016|\n",
      "|499-57-3069|     Hewie|  Mammatt|  Male|     Colombia|6574054974|SQY|23/02/2018|03/12/2015|23-02-2018|03-12-2015|\n",
      "|350-12-2717|    Tulley|  Chaytor|  Male|        China|8116323385|GZK|21/09/2017|21/12/2016|21-09-2017|21-12-2016|\n",
      "|628-23-6037|  Bellanca|  Walthew|Female|        China| 347316093|MSQ|14/02/2017|15/01/2015|14-02-2017|15-01-2015|\n",
      "|557-75-7804|     Kayle|Roderighi|Female|      Belarus|7790824767|FSB|11/08/2017|28/06/2015|11-08-2017|28-06-2015|\n",
      "|366-38-4163| Aleksandr|  Drezzer|  Male|    Lithuania|5598485567|EFM|23/09/2017|24/10/2016|23-09-2017|24-10-2016|\n",
      "|762-90-2894|    Hughie|McWhirter|  Male|       Russia|7964298046|ERM|02/03/2017|24/01/2016|02-03-2017|24-01-2016|\n",
      "|386-02-1594|     Gladi|  Roggero|Female|       Russia|1139964496|HFG|15/10/2018|27/07/2016|15-10-2018|27-07-2016|\n",
      "|570-92-9695|     Ringo|    Sirey|  Male|    Indonesia|7450273527|FNA|16/08/2017|10/07/2016|16-08-2017|10-07-2016|\n",
      "|566-55-1510|     Alvie|   McDade|  Male|      Nigeria|8704478215|RJG|13/04/2017|26/10/2016|13-04-2017|26-10-2016|\n",
      "|305-39-8231|     Ginni| Pietzker|Female|    Indonesia|4695747189|XNK|21/06/2018|01/11/2016|21-06-2018|01-11-2016|\n",
      "|407-75-9320|  Lowrance|   Marien|  Male|        China|6487684767|MOM|04/09/2017|24/05/2015|04-09-2017|24-05-2015|\n",
      "|648-56-0519|       Loy| Barthrup|  Male|United States| 228981441|LPJ|19/02/2018|24/09/2016|19-02-2018|24-09-2016|\n",
      "+-----------+----------+---------+------+-------------+----------+---+----------+----------+----------+----------+\n",
      "only showing top 20 rows\n",
      "\n"
     ]
    }
   ],
   "source": [
    "finaljoined = finaljoined.withColumn('OUT-DATE', regexp_replace('OUT_DATE', '/', '-'))\n",
    "finaljoined = finaljoined.withColumn('IN-DATE', regexp_replace('IN_DATE', '/', '-'))\n",
    "\n",
    "finaljoined.show()\n",
    "\n"
   ]
  },
  {
   "cell_type": "code",
   "execution_count": 22,
   "metadata": {},
   "outputs": [
    {
     "name": "stdout",
     "output_type": "stream",
     "text": [
      "+-----------+----------+---------+------+-------------+----------+---+\n",
      "|        SSN|first_name|last_name|gender|      Country|NHS_NUMBER|SEQ|\n",
      "+-----------+----------+---------+------+-------------+----------+---+\n",
      "|661-98-8505|Ermengarde|  Muneely|Female|        China|2161139193|ZLR|\n",
      "|576-77-4107|    Tammie|   Clemow|  Male|         Togo|6281115422|KEC|\n",
      "|194-33-0004|      Yvor| Ilyinykh|  Male|    Indonesia| 383193184|RLF|\n",
      "|125-85-9610|     Allin|  Tomsett|  Male|  Philippines|3532442140|GEA|\n",
      "|880-05-2062|    Dillon|  Middiff|  Male|     Thailand| 842221204|BWM|\n",
      "|586-02-1203|      Troy|   Genney|  Male|        Yemen|9495731291|UFK|\n",
      "|328-44-4724|   Marlene|     Musk|Female|     Tanzania|4557036961|DQK|\n",
      "|562-53-8334|   Yalonda| Craister|Female|    Indonesia| 392632683|CRO|\n",
      "|499-57-3069|     Hewie|  Mammatt|  Male|     Colombia|6574054974|SQY|\n",
      "|350-12-2717|    Tulley|  Chaytor|  Male|        China|8116323385|GZK|\n",
      "|628-23-6037|  Bellanca|  Walthew|Female|        China| 347316093|MSQ|\n",
      "|557-75-7804|     Kayle|Roderighi|Female|      Belarus|7790824767|FSB|\n",
      "|366-38-4163| Aleksandr|  Drezzer|  Male|    Lithuania|5598485567|EFM|\n",
      "|762-90-2894|    Hughie|McWhirter|  Male|       Russia|7964298046|ERM|\n",
      "|386-02-1594|     Gladi|  Roggero|Female|       Russia|1139964496|HFG|\n",
      "|570-92-9695|     Ringo|    Sirey|  Male|    Indonesia|7450273527|FNA|\n",
      "|566-55-1510|     Alvie|   McDade|  Male|      Nigeria|8704478215|RJG|\n",
      "|305-39-8231|     Ginni| Pietzker|Female|    Indonesia|4695747189|XNK|\n",
      "|407-75-9320|  Lowrance|   Marien|  Male|        China|6487684767|MOM|\n",
      "|648-56-0519|       Loy| Barthrup|  Male|United States| 228981441|LPJ|\n",
      "+-----------+----------+---------+------+-------------+----------+---+\n",
      "only showing top 20 rows\n",
      "\n"
     ]
    }
   ],
   "source": [
    "finaljoined=finaljoined.drop('IN_DATE','OUT_DATE')\n",
    "finaljoined.show()"
   ]
  },
  {
   "cell_type": "code",
   "execution_count": 52,
   "metadata": {},
   "outputs": [
    {
     "name": "stdout",
     "output_type": "stream",
     "text": [
      "+----------+----------+\n",
      "|     name1|     name2|\n",
      "+----------+----------+\n",
      "|Ermengarde|Ermengarde|\n",
      "|Ermengarde|    Tammie|\n",
      "|Ermengarde|      Yvor|\n",
      "|Ermengarde|     Allin|\n",
      "|Ermengarde|    Dillon|\n",
      "|Ermengarde|      Troy|\n",
      "|Ermengarde|   Marlene|\n",
      "|Ermengarde|   Yalonda|\n",
      "|Ermengarde|     Hewie|\n",
      "|Ermengarde|    Tulley|\n",
      "|Ermengarde|  Bellanca|\n",
      "|Ermengarde|     Kayle|\n",
      "|Ermengarde| Aleksandr|\n",
      "|Ermengarde|    Hughie|\n",
      "|Ermengarde|     Gladi|\n",
      "|Ermengarde|     Ringo|\n",
      "|Ermengarde|     Alvie|\n",
      "|Ermengarde|     Ginni|\n",
      "|Ermengarde|  Lowrance|\n",
      "|Ermengarde|       Loy|\n",
      "+----------+----------+\n",
      "only showing top 20 rows\n",
      "\n"
     ]
    }
   ],
   "source": [
    "crrm = finaljoined.select('first_name').\\\n",
    "selectExpr(\"first_name as name1\")\n",
    "\n",
    "crrf = finaljoined.select('first_name').\\\n",
    "selectExpr(\"first_name as name2\")\n",
    "\n",
    "crrj=crrm.crossJoin(crrf)\n",
    "crrj.show()"
   ]
  },
  {
   "cell_type": "code",
   "execution_count": 53,
   "metadata": {},
   "outputs": [
    {
     "data": {
      "text/plain": [
       "1000000"
      ]
     },
     "execution_count": 53,
     "metadata": {},
     "output_type": "execute_result"
    }
   ],
   "source": [
    "crrj.count()"
   ]
  }
 ],
 "metadata": {
  "kernelspec": {
   "display_name": "Python 3",
   "language": "python",
   "name": "python3"
  },
  "language_info": {
   "codemirror_mode": {
    "name": "ipython",
    "version": 3
   },
   "file_extension": ".py",
   "mimetype": "text/x-python",
   "name": "python",
   "nbconvert_exporter": "python",
   "pygments_lexer": "ipython3",
   "version": "3.6.1"
  }
 },
 "nbformat": 4,
 "nbformat_minor": 2
}
