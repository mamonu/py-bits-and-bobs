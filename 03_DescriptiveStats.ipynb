{
 "cells": [
  {
   "cell_type": "markdown",
   "metadata": {},
   "source": [
    "### 03_descriptive stats"
   ]
  },
  {
   "cell_type": "markdown",
   "metadata": {},
   "source": [
    "using `where`, `isNull`, `dropna`, `fillna`, `isnan` to find/fill  missing data on Pyspark dataframes"
   ]
  },
  {
   "cell_type": "code",
   "execution_count": null,
   "metadata": {
    "collapsed": true
   },
   "outputs": [],
   "source": []
  },
  {
   "cell_type": "code",
   "execution_count": 9,
   "metadata": {
    "collapsed": true
   },
   "outputs": [],
   "source": [
    "import pyspark\n",
    "from pyspark.sql import SparkSession\n",
    "from pyspark.sql.functions import *\n",
    "spark = SparkSession.builder.appName('PySparkmissing').getOrCreate()\n",
    "import pandas as pd\n",
    "sc = SparkSession.sparkContext"
   ]
  },
  {
   "cell_type": "code",
   "execution_count": 18,
   "metadata": {},
   "outputs": [
    {
     "name": "stdout",
     "output_type": "stream",
     "text": [
      "root\n",
      " |-- id: integer (nullable = true)\n",
      " |-- ip_address: string (nullable = true)\n",
      " |-- SPAM: integer (nullable = true)\n",
      " |-- numvar: double (nullable = true)\n",
      "\n"
     ]
    }
   ],
   "source": [
    "spdfA = spark.read.csv('02_MockDataset.csv',inferSchema=True,header=True)\n",
    "spdfA.printSchema()"
   ]
  },
  {
   "cell_type": "code",
   "execution_count": 19,
   "metadata": {},
   "outputs": [
    {
     "name": "stdout",
     "output_type": "stream",
     "text": [
      "+-------+------------------+--------------+------------------+------------------+\n",
      "|summary|                id|    ip_address|              SPAM|            numvar|\n",
      "+-------+------------------+--------------+------------------+------------------+\n",
      "|  count|               100|           100|                93|                93|\n",
      "|   mean|              50.5|          null|0.5376344086021505|21.290623238709678|\n",
      "| stddev|29.011491975882016|          null|0.5012839988457951|26.614498650610848|\n",
      "|    min|                 1|10.181.138.135|                 0|       -37.5407812|\n",
      "|    max|               100| 96.253.105.66|                 1|        62.5013857|\n",
      "+-------+------------------+--------------+------------------+------------------+\n",
      "\n"
     ]
    }
   ],
   "source": [
    "\n",
    "df_described = spdfA.describe()\n",
    "df_described.show()"
   ]
  },
  {
   "cell_type": "code",
   "execution_count": 35,
   "metadata": {
    "collapsed": true
   },
   "outputs": [],
   "source": [
    "from pyspark.sql.functions import skewness, kurtosis,col\n",
    "from pyspark.sql.functions import var_pop, var_samp, stddev, stddev_pop, sumDistinct, ntile,abs"
   ]
  },
  {
   "cell_type": "code",
   "execution_count": 23,
   "metadata": {
    "collapsed": true
   },
   "outputs": [],
   "source": []
  },
  {
   "cell_type": "code",
   "execution_count": 37,
   "metadata": {
    "collapsed": true
   },
   "outputs": [],
   "source": [
    "import matplotlib.pyplot as plt\n",
    "import numpy as np\n",
    "%matplotlib inline"
   ]
  },
  {
   "cell_type": "code",
   "execution_count": null,
   "metadata": {
    "collapsed": true
   },
   "outputs": [],
   "source": []
  },
  {
   "cell_type": "code",
   "execution_count": null,
   "metadata": {},
   "outputs": [],
   "source": []
  },
  {
   "cell_type": "markdown",
   "metadata": {},
   "source": [
    "### HISTOGRAM"
   ]
  },
  {
   "cell_type": "code",
   "execution_count": 39,
   "metadata": {},
   "outputs": [
    {
     "name": "stdout",
     "output_type": "stream",
     "text": [
      "[-37.5407812, -32.538672855, -27.536564509999998, -22.534456164999998, -17.53234782, -12.530239474999998, -7.5281311299999984, -2.526022784999995, 2.4760855600000014, 7.478193904999998, 12.480302250000001, 17.482410595000005, 22.48451894, 27.486627284999997, 32.48873563000001, 37.490843975000004, 42.49295232, 47.495060665, 52.49716900999999, 57.499277355000004, 62.5013857]\n",
      "[3, 3, 1, 3, 1, 4, 8, 2, 4, 2, 7, 4, 3, 4, 9, 14, 7, 5, 6, 3]\n"
     ]
    }
   ],
   "source": [
    "(startValues,counts) = spdfA.select(\"numvar\").rdd.map(lambda value: value[0]).histogram(20)\n",
    "print(startValues)\n",
    "print(counts)"
   ]
  },
  {
   "cell_type": "code",
   "execution_count": 40,
   "metadata": {},
   "outputs": [
    {
     "data": {
      "image/png": "[encoded data removed]",
      "text/plain": [
       "<matplotlib.figure.Figure at 0xa27d278>"
      ]
     },
     "metadata": {},
     "output_type": "display_data"
    }
   ],
   "source": [
    "mid_point_bins = startValues[:-1]\n",
    "widths = [np.abs(i - j+1) for i, j in zip(startValues[:-1], startValues[1:])]\n",
    "bar = plt.bar(mid_point_bins, counts, width=widths, color='b', align='edge')\n",
    "plt.show()"
   ]
  },
  {
   "cell_type": "code",
   "execution_count": null,
   "metadata": {
    "collapsed": true
   },
   "outputs": [],
   "source": []
  },
  {
   "cell_type": "code",
   "execution_count": null,
   "metadata": {
    "collapsed": true
   },
   "outputs": [],
   "source": []
  },
  {
   "cell_type": "markdown",
   "metadata": {},
   "source": [
    "### BOXPLOT"
   ]
  },
  {
   "cell_type": "code",
   "execution_count": 41,
   "metadata": {},
   "outputs": [
    {
     "data": {
      "image/png": "[encoded data removed]",
      "text/plain": [
       "<matplotlib.figure.Figure at 0x9fe4860>"
      ]
     },
     "metadata": {},
     "output_type": "display_data"
    }
   ],
   "source": [
    "min_string =  spdfA.agg({\"numvar\": \"min\"}).collect()[0][0]\n",
    "max_string =  spdfA.agg({\"numvar\": \"max\"}).collect()[0][0]\n",
    "mean_string=  spdfA.agg({\"numvar\": \"mean\"}).collect()[0][0]\n",
    "medianAndQuantiles = spdfA.stat.approxQuantile(\"numvar\",[0.25,0.5,0.75],0.0)\n",
    "(q1,median,q3) = (medianAndQuantiles[0], medianAndQuantiles[1], medianAndQuantiles[2])\n",
    "#Boxplot from precomputed values\n",
    "item = {}\n",
    "\n",
    "item[\"label\"] = 'numvar' \n",
    "item[\"mean\"] = float(mean_string) \n",
    "item[\"med\"] = median \n",
    "item[\"q1\"] = q1\n",
    "item[\"q3\"] = q3\n",
    "item[\"whislo\"] = float(min_string) \n",
    "item[\"whishi\"] = float(max_string)\n",
    "item[\"fliers\"] = []\n",
    "stats = [item]\n",
    "\n",
    "fig, axes = plt.subplots(1, 1)\n",
    "axes.bxp(stats)\n",
    "axes.set_title('Five Point Summary')\n",
    "plt.show()"
   ]
  },
  {
   "cell_type": "code",
   "execution_count": null,
   "metadata": {
    "collapsed": true
   },
   "outputs": [],
   "source": []
  }
 ],
 "metadata": {
  "kernelspec": {
   "display_name": "Python 3",
   "language": "python",
   "name": "python3"
  },
  "language_info": {
   "codemirror_mode": {
    "name": "ipython",
    "version": 3
   },
   "file_extension": ".py",
   "mimetype": "text/x-python",
   "name": "python",
   "nbconvert_exporter": "python",
   "pygments_lexer": "ipython3",
   "version": "3.6.1"
  }
 },
 "nbformat": 4,
 "nbformat_minor": 2
}
