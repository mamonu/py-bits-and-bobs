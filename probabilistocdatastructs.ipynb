{
 "cells": [
  {
   "cell_type": "code",
   "execution_count": 4,
   "metadata": {
    "collapsed": true
   },
   "outputs": [],
   "source": [
    "parker_text = \"\"\"\n",
    "My answers are inadequate\n",
    "To those demanding day and date\n",
    "And ever set a tiny shock\n",
    "Through strangers asking what's o'clock;\n",
    "Whose days are spent in whittling rhyme-\n",
    "What's time to her, or she to Time?\n",
    "\"\"\""
   ]
  },
  {
   "cell_type": "code",
   "execution_count": 3,
   "metadata": {
    "collapsed": true
   },
   "outputs": [],
   "source": [
    "jabber_text = \"\"\"\n",
    "`Twas brillig, and the slithy toves\n",
    "  Did gyre and gimble in the wabe:\n",
    "All mimsy were the borogoves,\n",
    "  And the mome raths outgrabe.\n",
    "\n",
    "\"Beware the Jabberwock, my son!\n",
    "  The jaws that bite, the claws that catch!\n",
    "Beware the Jubjub bird, and shun\n",
    "  The frumious Bandersnatch!\"\n",
    "He took his vorpal sword in hand:\n",
    "  Long time the manxome foe he sought --\n",
    "So rested he by the Tumtum tree,\n",
    "  And stood awhile in thought.\n",
    "And, as in uffish thought he stood,\n",
    "  The Jabberwock, with eyes of flame,\n",
    "Came whiffling through the tulgey wood,\n",
    "  And burbled as it came!\n",
    "One, two! One, two! And through and through\n",
    "  The vorpal blade went snicker-snack!\n",
    "He left it dead, and with its head\n",
    "  He went galumphing back.\n",
    "\"And, has thou slain the Jabberwock?\n",
    "  Come to my arms, my beamish boy!\n",
    "O frabjous day! Callooh! Callay!'\n",
    "  He chortled in his joy.\n",
    "\n",
    "`Twas brillig, and the slithy toves\n",
    "  Did gyre and gimble in the wabe;\n",
    "All mimsy were the borogoves,\n",
    "  And the mome raths outgrabe.\n",
    "\"\"\""
   ]
  },
  {
   "cell_type": "code",
   "execution_count": 11,
   "metadata": {
    "collapsed": true
   },
   "outputs": [],
   "source": [
    "import re\n",
    "\n",
    "def clean_words (text):\n",
    "    return  re.sub(\"[^A-Za-z]\", \" \", text).split(\" \")"
   ]
  },
  {
   "cell_type": "code",
   "execution_count": 12,
   "metadata": {},
   "outputs": [
    {
     "name": "stdout",
     "output_type": "stream",
     "text": [
      "['', '', 'twas', 'brillig', '', 'and', 'the', 'slithy', 'toves', '', '', 'did', 'gyre', 'and', 'gimble', 'in', 'the', 'wabe', '', 'all', 'mimsy', 'were', 'the', 'borogoves', '', '', '', 'and', 'the', 'mome', 'raths', 'outgrabe', '', '', '', 'beware', 'the', 'jabberwock', '', 'my', 'son', '', '', '', 'the', 'jaws', 'that', 'bite', '', 'the', 'claws', 'that', 'catch', '', 'beware', 'the', 'jubjub', 'bird', '', 'and', 'shun', '', '', 'the', 'frumious', 'bandersnatch', '', '', 'he', 'took', 'his', 'vorpal', 'sword', 'in', 'hand', '', '', '', 'long', 'time', 'the', 'manxome', 'foe', 'he', 'sought', '', '', '', 'so', 'rested', 'he', 'by', 'the', 'tumtum', 'tree', '', '', '', 'and', 'stood', 'awhile', 'in', 'thought', '', 'and', '', 'as', 'in', 'uffish', 'thought', 'he', 'stood', '', '', '', 'the', 'jabberwock', '', 'with', 'eyes', 'of', 'flame', '', 'came', 'whiffling', 'through', 'the', 'tulgey', 'wood', '', '', '', 'and', 'burbled', 'as', 'it', 'came', '', 'one', '', 'two', '', 'one', '', 'two', '', 'and', 'through', 'and', 'through', '', '', 'the', 'vorpal', 'blade', 'went', 'snicker', 'snack', '', 'he', 'left', 'it', 'dead', '', 'and', 'with', 'its', 'head', '', '', 'he', 'went', 'galumphing', 'back', '', '', 'and', '', 'has', 'thou', 'slain', 'the', 'jabberwock', '', '', '', 'come', 'to', 'my', 'arms', '', 'my', 'beamish', 'boy', '', 'o', 'frabjous', 'day', '', 'callooh', '', 'callay', '', '', '', '', 'he', 'chortled', 'in', 'his', 'joy', '', '', '', 'twas', 'brillig', '', 'and', 'the', 'slithy', 'toves', '', '', 'did', 'gyre', 'and', 'gimble', 'in', 'the', 'wabe', '', 'all', 'mimsy', 'were', 'the', 'borogoves', '', '', '', 'and', 'the', 'mome', 'raths', 'outgrabe', '', '']\n"
     ]
    }
   ],
   "source": [
    "jabber_words = clean_words(jabber_text.lower())\n",
    "print (jabber_words)"
   ]
  },
  {
   "cell_type": "code",
   "execution_count": 13,
   "metadata": {},
   "outputs": [
    {
     "name": "stdout",
     "output_type": "stream",
     "text": [
      "['', 'my', 'answers', 'are', 'inadequate', 'to', 'those', 'demanding', 'day', 'and', 'date', 'and', 'ever', 'set', 'a', 'tiny', 'shock', 'through', 'strangers', 'asking', 'what', 's', 'o', 'clock', '', 'whose', 'days', 'are', 'spent', 'in', 'whittling', 'rhyme', '', 'what', 's', 'time', 'to', 'her', '', 'or', 'she', 'to', 'time', '', '']\n"
     ]
    }
   ],
   "source": [
    "parker_words = clean_words(parker_text.lower())\n",
    "print (parker_words)"
   ]
  },
  {
   "cell_type": "code",
   "execution_count": 36,
   "metadata": {},
   "outputs": [
    {
     "name": "stdout",
     "output_type": "stream",
     "text": [
      "prob count 91, true count 92\n",
      "observed error rate 0.01\n"
     ]
    }
   ],
   "source": [
    "jabber_uniq = sorted(set(jabber_words))\n",
    "import hyperloglog\n",
    "\n",
    "# accept 1% counting error\n",
    "hll = hyperloglog.HyperLogLog(0.01)\n",
    "\n",
    "for word in jabber_words:\n",
    "    hll.add(word)\n",
    "\n",
    "print (\"prob count %d, true count %d\" % (len(hll), len(jabber_uniq)))\n",
    "print (\"observed error rate %0.2f\" % (abs(len(hll) - len(jabber_uniq)) / float(len(jabber_uniq))))"
   ]
  },
  {
   "cell_type": "code",
   "execution_count": 22,
   "metadata": {},
   "outputs": [],
   "source": [
    "from random import randint\n",
    "\n",
    "\n",
    "\"\"\" \n",
    "\n",
    "Frequency Summaries\n",
    "\n",
    "Frequency Summaries are another way of describing the frequency of events in a data stream. \n",
    "Think: leaderboards used for online competitions, etc.\n",
    "The main idea is that we want to measure and compare which events are occurring most frequently, \n",
    "and we probably don't care about the events that occur less often. \n",
    "The precision of the frequencies isn't particularly imporant.\n",
    "We'll use Count-min sketch for frequency summaries, to implement \n",
    "a probabilistic word count on one of the poems.\n",
    "\"\"\"\n",
    "\n",
    "\n",
    "\n",
    "\n",
    "\n",
    "\n",
    "\n",
    "\n",
    "class CountMinSketch(object):\n",
    "    \"\"\"Count-Min Sketches\n",
    "    Count-min sketches will keep track of and return approximate\n",
    "    counts of elements. The elements can be any hashable Python\n",
    "    object.\n",
    "    The error of the count estimate is at most (2N / w) with\n",
    "    probability at least (1 - (1/2)^d).\n",
    "    Based on the gentle introduction by the inventors:\n",
    "      Cormode and Muthukrishnan. \"Approximating data with the\n",
    "      count-min data structure.\"  IEEE Software, (2012)\n",
    "    \"\"\"\n",
    "    def __init__(self, w, d):\n",
    "        \"\"\"`w` is the hash width in bits, `d` is the number of hash functions.\n",
    "        \"\"\"\n",
    "        self.w = w\n",
    "        self.d = d\n",
    "        self.p = 2**31-1  # magic number from the paper\n",
    "\n",
    "        self.counts = [[0 for _ in range(w)] for _ in range(d)]\n",
    "        self.total = 0\n",
    "\n",
    "        self._init_hash_params()\n",
    "\n",
    "    def __setitem__(self, e, c):\n",
    "        \"\"\"Update (increment) the counts for element `e` by `c`.\"\"\"\n",
    "        self.total += c\n",
    "        for i in range(self.d):\n",
    "            h = self.hash(i, e)\n",
    "            self.counts[i][h] += c\n",
    "    update = __setitem__\n",
    "\n",
    "    def __getitem__(self, e):\n",
    "        \"\"\"Estimate the accumulated counts for element `e`.\"\"\"\n",
    "        estimates = [self.counts[i][self.hash(i, e)] for i in range(self.d)]\n",
    "        return min(estimates)\n",
    "    estimate = __getitem__\n",
    "\n",
    "    def _init_hash_params(self):\n",
    "        self.a_b = []\n",
    "        for i in range(self.d):\n",
    "            a = randint(1, self.p-1)\n",
    "            b = randint(1, self.p-1)\n",
    "            self.a_b.append((a, b))\n",
    "\n",
    "    def hash(self, i, e):\n",
    "        \"\"\"Apply the `i`th hash function to element `e`.\"\"\"\n",
    "        e_int = hash(e)\n",
    "        a, b = self.a_b[i]\n",
    "\n",
    "        return CountMinSketch.hash_cw(self.p, self.w, a, b, e_int)\n",
    "\n",
    "    @staticmethod\n",
    "    def hash_cw(p, w, a, b, e):\n",
    "        \"\"\"Auxillary hashing function for the CountMinSketch class.\n",
    "        We use this parameterized hash function to obtain our\n",
    "        pairwise-independent hash functions. `p` and `w` define the\n",
    "        sub-family, `a` and `b` define the members.\n",
    "        \"\"\"\n",
    "        # Universal hash functions from: Carter & Wegman \"Universal\n",
    "        # classes of hash functions\" 1979\n",
    "        #\n",
    "        # a and b should be random integers in the range [1, p-1]\n",
    "        return (((a*e + b) % p) % w)\n"
   ]
  },
  {
   "cell_type": "code",
   "execution_count": 33,
   "metadata": {},
   "outputs": [],
   "source": [
    "from collections import Counter\n",
    "\n",
    "\n",
    "counts = Counter()\n",
    "\n",
    "# table size=1000, hash functions=10\n",
    "cms = CountMinSketch(80, 10)\n",
    "\n",
    "for word in jabber_words:\n",
    "    counts[word] += 1\n",
    "    cms.update(word, 1)"
   ]
  },
  {
   "cell_type": "code",
   "execution_count": 34,
   "metadata": {},
   "outputs": [
    {
     "name": "stdout",
     "output_type": "stream",
     "text": [
      "missed 'blade' counter: 1, sketch: 2\n",
      "missed 'arms' counter: 1, sketch: 2\n"
     ]
    }
   ],
   "source": [
    "for e in counts:\n",
    "    if counts[e] != cms.estimate(e):\n",
    "        print (\"missed '%s' counter: %d, sketch: %d\" % (e, counts[e], cms.estimate(e)))"
   ]
  },
  {
   "cell_type": "code",
   "execution_count": 41,
   "metadata": {},
   "outputs": [
    {
     "name": "stdout",
     "output_type": "stream",
     "text": [
      "instances of the word `the` 19 19\n",
      "instances of the word `and` 14 14\n",
      "instances of the word `he` 7 7\n",
      "instances of the word `did` 2 2\n"
     ]
    }
   ],
   "source": [
    "for word in [\"the\", \"and\", \"he\", \"did\"]:\n",
    "    print (\"instances of the word `%s` %d %d\" % (word,counts[word], cms.estimate(word)))"
   ]
  },
  {
   "cell_type": "code",
   "execution_count": null,
   "metadata": {
    "collapsed": true
   },
   "outputs": [],
   "source": []
  }
 ],
 "metadata": {
  "kernelspec": {
   "display_name": "Python 3",
   "language": "python",
   "name": "python3"
  },
  "language_info": {
   "codemirror_mode": {
    "name": "ipython",
    "version": 3
   },
   "file_extension": ".py",
   "mimetype": "text/x-python",
   "name": "python",
   "nbconvert_exporter": "python",
   "pygments_lexer": "ipython3",
   "version": "3.6.1"
  }
 },
 "nbformat": 4,
 "nbformat_minor": 2
}
